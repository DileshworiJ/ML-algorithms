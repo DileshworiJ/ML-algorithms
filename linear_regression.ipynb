{
  "nbformat": 4,
  "nbformat_minor": 0,
  "metadata": {
    "colab": {
      "name": "linear-regression.ipynb",
      "provenance": []
    },
    "kernelspec": {
      "name": "python3",
      "display_name": "Python 3"
    }
  },
  "cells": [
    {
      "cell_type": "code",
      "metadata": {
        "id": "356Jectvo4OS"
      },
      "source": [
        "# Importing Necessary libraries.\n",
        "import numpy as np\n",
        "import pandas as pd\n",
        "import matplotlib.pyplot as plt\n",
        "%matplotlib inline"
      ],
      "execution_count": null,
      "outputs": []
    },
    {
      "cell_type": "code",
      "metadata": {
        "id": "PY-3ypYesG0s",
        "outputId": "8ac2dfd2-b4ca-4459-cc77-05969749db94",
        "colab": {
          "base_uri": "https://localhost:8080/",
          "height": 204
        }
      },
      "source": [
        "df = pd.read_csv('headbrain.csv')\n",
        "df.head()"
      ],
      "execution_count": null,
      "outputs": [
        {
          "output_type": "execute_result",
          "data": {
            "text/html": [
              "<div>\n",
              "<style scoped>\n",
              "    .dataframe tbody tr th:only-of-type {\n",
              "        vertical-align: middle;\n",
              "    }\n",
              "\n",
              "    .dataframe tbody tr th {\n",
              "        vertical-align: top;\n",
              "    }\n",
              "\n",
              "    .dataframe thead th {\n",
              "        text-align: right;\n",
              "    }\n",
              "</style>\n",
              "<table border=\"1\" class=\"dataframe\">\n",
              "  <thead>\n",
              "    <tr style=\"text-align: right;\">\n",
              "      <th></th>\n",
              "      <th>Gender</th>\n",
              "      <th>Age Range</th>\n",
              "      <th>Head Size(cm^3)</th>\n",
              "      <th>Brain Weight(grams)</th>\n",
              "    </tr>\n",
              "  </thead>\n",
              "  <tbody>\n",
              "    <tr>\n",
              "      <th>0</th>\n",
              "      <td>1</td>\n",
              "      <td>1</td>\n",
              "      <td>4512</td>\n",
              "      <td>1530</td>\n",
              "    </tr>\n",
              "    <tr>\n",
              "      <th>1</th>\n",
              "      <td>1</td>\n",
              "      <td>1</td>\n",
              "      <td>3738</td>\n",
              "      <td>1297</td>\n",
              "    </tr>\n",
              "    <tr>\n",
              "      <th>2</th>\n",
              "      <td>1</td>\n",
              "      <td>1</td>\n",
              "      <td>4261</td>\n",
              "      <td>1335</td>\n",
              "    </tr>\n",
              "    <tr>\n",
              "      <th>3</th>\n",
              "      <td>1</td>\n",
              "      <td>1</td>\n",
              "      <td>3777</td>\n",
              "      <td>1282</td>\n",
              "    </tr>\n",
              "    <tr>\n",
              "      <th>4</th>\n",
              "      <td>1</td>\n",
              "      <td>1</td>\n",
              "      <td>4177</td>\n",
              "      <td>1590</td>\n",
              "    </tr>\n",
              "  </tbody>\n",
              "</table>\n",
              "</div>"
            ],
            "text/plain": [
              "   Gender  Age Range  Head Size(cm^3)  Brain Weight(grams)\n",
              "0       1          1             4512                 1530\n",
              "1       1          1             3738                 1297\n",
              "2       1          1             4261                 1335\n",
              "3       1          1             3777                 1282\n",
              "4       1          1             4177                 1590"
            ]
          },
          "metadata": {
            "tags": []
          },
          "execution_count": 2
        }
      ]
    },
    {
      "cell_type": "code",
      "metadata": {
        "id": "EXwPUz2ksdb5",
        "outputId": "c18b1ffe-e8f7-42e5-af3b-0a7c7d3e98e9",
        "colab": {
          "base_uri": "https://localhost:8080/"
        }
      },
      "source": [
        "df.info()\n"
      ],
      "execution_count": null,
      "outputs": [
        {
          "output_type": "stream",
          "text": [
            "<class 'pandas.core.frame.DataFrame'>\n",
            "RangeIndex: 237 entries, 0 to 236\n",
            "Data columns (total 4 columns):\n",
            " #   Column               Non-Null Count  Dtype\n",
            "---  ------               --------------  -----\n",
            " 0   Gender               237 non-null    int64\n",
            " 1   Age Range            237 non-null    int64\n",
            " 2   Head Size(cm^3)      237 non-null    int64\n",
            " 3   Brain Weight(grams)  237 non-null    int64\n",
            "dtypes: int64(4)\n",
            "memory usage: 7.5 KB\n"
          ],
          "name": "stdout"
        }
      ]
    },
    {
      "cell_type": "code",
      "metadata": {
        "id": "pM3NaS5Fshlx",
        "outputId": "c381d839-d2cf-41dd-89ce-eed3e53f7c2c",
        "colab": {
          "base_uri": "https://localhost:8080/"
        }
      },
      "source": [
        "df.isnull().sum()\n"
      ],
      "execution_count": null,
      "outputs": [
        {
          "output_type": "execute_result",
          "data": {
            "text/plain": [
              "Gender                 0\n",
              "Age Range              0\n",
              "Head Size(cm^3)        0\n",
              "Brain Weight(grams)    0\n",
              "dtype: int64"
            ]
          },
          "metadata": {
            "tags": []
          },
          "execution_count": 4
        }
      ]
    },
    {
      "cell_type": "code",
      "metadata": {
        "id": "d-kfHQJRssrj",
        "outputId": "a766c8ce-7b60-4463-ffc0-f10b0ab5d637",
        "colab": {
          "base_uri": "https://localhost:8080/"
        }
      },
      "source": [
        "df.shape\n"
      ],
      "execution_count": null,
      "outputs": [
        {
          "output_type": "execute_result",
          "data": {
            "text/plain": [
              "(237, 4)"
            ]
          },
          "metadata": {
            "tags": []
          },
          "execution_count": 5
        }
      ]
    },
    {
      "cell_type": "code",
      "metadata": {
        "id": "yz9ZQaklsxxK"
      },
      "source": [
        "X = df['Head Size(cm^3)'].values\n",
        "Y =  df['Brain Weight(grams)'].values"
      ],
      "execution_count": null,
      "outputs": []
    },
    {
      "cell_type": "code",
      "metadata": {
        "id": "3INjVm8Cs4HU",
        "outputId": "1dcf4a06-5ddb-4c3f-b4c4-7d55268baac9",
        "colab": {
          "base_uri": "https://localhost:8080/"
        }
      },
      "source": [
        "X.shape\n"
      ],
      "execution_count": null,
      "outputs": [
        {
          "output_type": "execute_result",
          "data": {
            "text/plain": [
              "(237,)"
            ]
          },
          "metadata": {
            "tags": []
          },
          "execution_count": 7
        }
      ]
    },
    {
      "cell_type": "code",
      "metadata": {
        "id": "ffj8SFH2s7Hx",
        "outputId": "02d021f5-a31e-4db2-ce52-868f3275ac0c",
        "colab": {
          "base_uri": "https://localhost:8080/"
        }
      },
      "source": [
        "Y.shape\n"
      ],
      "execution_count": null,
      "outputs": [
        {
          "output_type": "execute_result",
          "data": {
            "text/plain": [
              "(237,)"
            ]
          },
          "metadata": {
            "tags": []
          },
          "execution_count": 8
        }
      ]
    },
    {
      "cell_type": "code",
      "metadata": {
        "id": "ZHitShWas_Hz",
        "outputId": "b303d5e6-ffc0-47e0-8cc1-79b998869528",
        "colab": {
          "base_uri": "https://localhost:8080/"
        }
      },
      "source": [
        "mean_X = np.mean(X)\n",
        "mean_Y = np.mean(Y)\n",
        "\n",
        "n = len(X)\n",
        "\n",
        "num =0\n",
        "denom = 0\n",
        "\n",
        "for i in range(n):\n",
        "    num += (X[i]-mean_X)* (Y[i]-mean_Y)\n",
        "    denom +=(X[i]-mean_X)**2\n",
        "m = num/denom   #summation({(x-xbar)*(y-ybar)}/(x-xbar)^2)\n",
        "c = mean_Y - (m*mean_X)  #(c=ybar-m*xbar)\n",
        "\n",
        "print(m,',',c)   #slope and the y-intercept"
      ],
      "execution_count": null,
      "outputs": [
        {
          "output_type": "stream",
          "text": [
            "0.26342933948939945 , 325.57342104944223\n"
          ],
          "name": "stdout"
        }
      ]
    },
    {
      "cell_type": "code",
      "metadata": {
        "id": "r9brn-NRuE47",
        "outputId": "00c53d90-3d57-442a-f2c1-d4d771e03b8e",
        "colab": {
          "base_uri": "https://localhost:8080/",
          "height": 282
        }
      },
      "source": [
        "plt.scatter(X,Y)  #head-size vs brain-weight\n"
      ],
      "execution_count": null,
      "outputs": [
        {
          "output_type": "execute_result",
          "data": {
            "text/plain": [
              "<matplotlib.collections.PathCollection at 0x7f99ca5a4fd0>"
            ]
          },
          "metadata": {
            "tags": []
          },
          "execution_count": 11
        },
        {
          "output_type": "display_data",
          "data": {
            "image/png": "[encoded data removed]",
            "text/plain": [
              "<Figure size 432x288 with 1 Axes>"
            ]
          },
          "metadata": {
            "tags": [],
            "needs_background": "light"
          }
        }
      ]
    },
    {
      "cell_type": "code",
      "metadata": {
        "id": "CAdRiK1WuTEb"
      },
      "source": [
        "#creating dummy test set\n",
        "min_x = np.min(X)-100\n",
        "max_x = np.max(X)+100"
      ],
      "execution_count": null,
      "outputs": []
    },
    {
      "cell_type": "code",
      "metadata": {
        "id": "Jb1DfIRjugkc",
        "outputId": "320ba5da-88bb-4635-e254-237b99da0d02",
        "colab": {
          "base_uri": "https://localhost:8080/"
        }
      },
      "source": [
        "min_x"
      ],
      "execution_count": null,
      "outputs": [
        {
          "output_type": "execute_result",
          "data": {
            "text/plain": [
              "2620"
            ]
          },
          "metadata": {
            "tags": []
          },
          "execution_count": 13
        }
      ]
    },
    {
      "cell_type": "code",
      "metadata": {
        "id": "wOEu66OEujII",
        "outputId": "ee0b48fe-3f4b-4a5a-c8d7-8e46ea784390",
        "colab": {
          "base_uri": "https://localhost:8080/"
        }
      },
      "source": [
        "max_x"
      ],
      "execution_count": null,
      "outputs": [
        {
          "output_type": "execute_result",
          "data": {
            "text/plain": [
              "4847"
            ]
          },
          "metadata": {
            "tags": []
          },
          "execution_count": 14
        }
      ]
    },
    {
      "cell_type": "code",
      "metadata": {
        "id": "fFpkNxhGunQy"
      },
      "source": [
        "x = np.linspace(min_x,max_x,1000)\n"
      ],
      "execution_count": null,
      "outputs": []
    },
    {
      "cell_type": "code",
      "metadata": {
        "id": "fOHEXO7tusBM",
        "outputId": "78324212-3ad0-4bcc-c4d2-a097edaddd5a",
        "colab": {
          "base_uri": "https://localhost:8080/"
        }
      },
      "source": [
        "x"
      ],
      "execution_count": null,
      "outputs": [
        {
          "output_type": "execute_result",
          "data": {
            "text/plain": [
              "array([2620.        , 2622.22922923, 2624.45845846, 2626.68768769,\n",
              "       2628.91691692, 2631.14614615, 2633.37537538, 2635.6046046 ,\n",
              "       2637.83383383, 2640.06306306, 2642.29229229, 2644.52152152,\n",
              "       2646.75075075, 2648.97997998, 2651.20920921, 2653.43843844,\n",
              "       2655.66766767, 2657.8968969 , 2660.12612613, 2662.35535536,\n",
              "       2664.58458458, 2666.81381381, 2669.04304304, 2671.27227227,\n",
              "       2673.5015015 , 2675.73073073, 2677.95995996, 2680.18918919,\n",
              "       2682.41841842, 2684.64764765, 2686.87687688, 2689.10610611,\n",
              "       2691.33533534, 2693.56456456, 2695.79379379, 2698.02302302,\n",
              "       2700.25225225, 2702.48148148, 2704.71071071, 2706.93993994,\n",
              "       2709.16916917, 2711.3983984 , 2713.62762763, 2715.85685686,\n",
              "       2718.08608609, 2720.31531532, 2722.54454454, 2724.77377377,\n",
              "       2727.003003  , 2729.23223223, 2731.46146146, 2733.69069069,\n",
              "       2735.91991992, 2738.14914915, 2740.37837838, 2742.60760761,\n",
              "       2744.83683684, 2747.06606607, 2749.2952953 , 2751.52452452,\n",
              "       2753.75375375, 2755.98298298, 2758.21221221, 2760.44144144,\n",
              "       2762.67067067, 2764.8998999 , 2767.12912913, 2769.35835836,\n",
              "       2771.58758759, 2773.81681682, 2776.04604605, 2778.27527528,\n",
              "       2780.5045045 , 2782.73373373, 2784.96296296, 2787.19219219,\n",
              "       2789.42142142, 2791.65065065, 2793.87987988, 2796.10910911,\n",
              "       2798.33833834, 2800.56756757, 2802.7967968 , 2805.02602603,\n",
              "       2807.25525526, 2809.48448448, 2811.71371371, 2813.94294294,\n",
              "       2816.17217217, 2818.4014014 , 2820.63063063, 2822.85985986,\n",
              "       2825.08908909, 2827.31831832, 2829.54754755, 2831.77677678,\n",
              "       2834.00600601, 2836.23523524, 2838.46446446, 2840.69369369,\n",
              "       2842.92292292, 2845.15215215, 2847.38138138, 2849.61061061,\n",
              "       2851.83983984, 2854.06906907, 2856.2982983 , 2858.52752753,\n",
              "       2860.75675676, 2862.98598599, 2865.21521522, 2867.44444444,\n",
              "       2869.67367367, 2871.9029029 , 2874.13213213, 2876.36136136,\n",
              "       2878.59059059, 2880.81981982, 2883.04904905, 2885.27827828,\n",
              "       2887.50750751, 2889.73673674, 2891.96596597, 2894.1951952 ,\n",
              "       2896.42442442, 2898.65365365, 2900.88288288, 2903.11211211,\n",
              "       2905.34134134, 2907.57057057, 2909.7997998 , 2912.02902903,\n",
              "       2914.25825826, 2916.48748749, 2918.71671672, 2920.94594595,\n",
              "       2923.17517518, 2925.4044044 , 2927.63363363, 2929.86286286,\n",
              "       2932.09209209, 2934.32132132, 2936.55055055, 2938.77977978,\n",
              "       2941.00900901, 2943.23823824, 2945.46746747, 2947.6966967 ,\n",
              "       2949.92592593, 2952.15515516, 2954.38438438, 2956.61361361,\n",
              "       2958.84284284, 2961.07207207, 2963.3013013 , 2965.53053053,\n",
              "       2967.75975976, 2969.98898899, 2972.21821822, 2974.44744745,\n",
              "       2976.67667668, 2978.90590591, 2981.13513514, 2983.36436436,\n",
              "       2985.59359359, 2987.82282282, 2990.05205205, 2992.28128128,\n",
              "       2994.51051051, 2996.73973974, 2998.96896897, 3001.1981982 ,\n",
              "       3003.42742743, 3005.65665666, 3007.88588589, 3010.11511512,\n",
              "       3012.34434434, 3014.57357357, 3016.8028028 , 3019.03203203,\n",
              "       3021.26126126, 3023.49049049, 3025.71971972, 3027.94894895,\n",
              "       3030.17817818, 3032.40740741, 3034.63663664, 3036.86586587,\n",
              "       3039.0950951 , 3041.32432432, 3043.55355355, 3045.78278278,\n",
              "       3048.01201201, 3050.24124124, 3052.47047047, 3054.6996997 ,\n",
              "       3056.92892893, 3059.15815816, 3061.38738739, 3063.61661662,\n",
              "       3065.84584585, 3068.07507508, 3070.3043043 , 3072.53353353,\n",
              "       3074.76276276, 3076.99199199, 3079.22122122, 3081.45045045,\n",
              "       3083.67967968, 3085.90890891, 3088.13813814, 3090.36736737,\n",
              "       3092.5965966 , 3094.82582583, 3097.05505506, 3099.28428428,\n",
              "       3101.51351351, 3103.74274274, 3105.97197197, 3108.2012012 ,\n",
              "       3110.43043043, 3112.65965966, 3114.88888889, 3117.11811812,\n",
              "       3119.34734735, 3121.57657658, 3123.80580581, 3126.03503504,\n",
              "       3128.26426426, 3130.49349349, 3132.72272272, 3134.95195195,\n",
              "       3137.18118118, 3139.41041041, 3141.63963964, 3143.86886887,\n",
              "       3146.0980981 , 3148.32732733, 3150.55655656, 3152.78578579,\n",
              "       3155.01501502, 3157.24424424, 3159.47347347, 3161.7027027 ,\n",
              "       3163.93193193, 3166.16116116, 3168.39039039, 3170.61961962,\n",
              "       3172.84884885, 3175.07807808, 3177.30730731, 3179.53653654,\n",
              "       3181.76576577, 3183.99499499, 3186.22422422, 3188.45345345,\n",
              "       3190.68268268, 3192.91191191, 3195.14114114, 3197.37037037,\n",
              "       3199.5995996 , 3201.82882883, 3204.05805806, 3206.28728729,\n",
              "       3208.51651652, 3210.74574575, 3212.97497497, 3215.2042042 ,\n",
              "       3217.43343343, 3219.66266266, 3221.89189189, 3224.12112112,\n",
              "       3226.35035035, 3228.57957958, 3230.80880881, 3233.03803804,\n",
              "       3235.26726727, 3237.4964965 , 3239.72572573, 3241.95495495,\n",
              "       3244.18418418, 3246.41341341, 3248.64264264, 3250.87187187,\n",
              "       3253.1011011 , 3255.33033033, 3257.55955956, 3259.78878879,\n",
              "       3262.01801802, 3264.24724725, 3266.47647648, 3268.70570571,\n",
              "       3270.93493493, 3273.16416416, 3275.39339339, 3277.62262262,\n",
              "       3279.85185185, 3282.08108108, 3284.31031031, 3286.53953954,\n",
              "       3288.76876877, 3290.997998  , 3293.22722723, 3295.45645646,\n",
              "       3297.68568569, 3299.91491491, 3302.14414414, 3304.37337337,\n",
              "       3306.6026026 , 3308.83183183, 3311.06106106, 3313.29029029,\n",
              "       3315.51951952, 3317.74874875, 3319.97797798, 3322.20720721,\n",
              "       3324.43643644, 3326.66566567, 3328.89489489, 3331.12412412,\n",
              "       3333.35335335, 3335.58258258, 3337.81181181, 3340.04104104,\n",
              "       3342.27027027, 3344.4994995 , 3346.72872873, 3348.95795796,\n",
              "       3351.18718719, 3353.41641642, 3355.64564565, 3357.87487487,\n",
              "       3360.1041041 , 3362.33333333, 3364.56256256, 3366.79179179,\n",
              "       3369.02102102, 3371.25025025, 3373.47947948, 3375.70870871,\n",
              "       3377.93793794, 3380.16716717, 3382.3963964 , 3384.62562563,\n",
              "       3386.85485485, 3389.08408408, 3391.31331331, 3393.54254254,\n",
              "       3395.77177177, 3398.001001  , 3400.23023023, 3402.45945946,\n",
              "       3404.68868869, 3406.91791792, 3409.14714715, 3411.37637638,\n",
              "       3413.60560561, 3415.83483483, 3418.06406406, 3420.29329329,\n",
              "       3422.52252252, 3424.75175175, 3426.98098098, 3429.21021021,\n",
              "       3431.43943944, 3433.66866867, 3435.8978979 , 3438.12712713,\n",
              "       3440.35635636, 3442.58558559, 3444.81481481, 3447.04404404,\n",
              "       3449.27327327, 3451.5025025 , 3453.73173173, 3455.96096096,\n",
              "       3458.19019019, 3460.41941942, 3462.64864865, 3464.87787788,\n",
              "       3467.10710711, 3469.33633634, 3471.56556557, 3473.79479479,\n",
              "       3476.02402402, 3478.25325325, 3480.48248248, 3482.71171171,\n",
              "       3484.94094094, 3487.17017017, 3489.3993994 , 3491.62862863,\n",
              "       3493.85785786, 3496.08708709, 3498.31631632, 3500.54554555,\n",
              "       3502.77477477, 3505.004004  , 3507.23323323, 3509.46246246,\n",
              "       3511.69169169, 3513.92092092, 3516.15015015, 3518.37937938,\n",
              "       3520.60860861, 3522.83783784, 3525.06706707, 3527.2962963 ,\n",
              "       3529.52552553, 3531.75475475, 3533.98398398, 3536.21321321,\n",
              "       3538.44244244, 3540.67167167, 3542.9009009 , 3545.13013013,\n",
              "       3547.35935936, 3549.58858859, 3551.81781782, 3554.04704705,\n",
              "       3556.27627628, 3558.50550551, 3560.73473473, 3562.96396396,\n",
              "       3565.19319319, 3567.42242242, 3569.65165165, 3571.88088088,\n",
              "       3574.11011011, 3576.33933934, 3578.56856857, 3580.7977978 ,\n",
              "       3583.02702703, 3585.25625626, 3587.48548549, 3589.71471471,\n",
              "       3591.94394394, 3594.17317317, 3596.4024024 , 3598.63163163,\n",
              "       3600.86086086, 3603.09009009, 3605.31931932, 3607.54854855,\n",
              "       3609.77777778, 3612.00700701, 3614.23623624, 3616.46546547,\n",
              "       3618.69469469, 3620.92392392, 3623.15315315, 3625.38238238,\n",
              "       3627.61161161, 3629.84084084, 3632.07007007, 3634.2992993 ,\n",
              "       3636.52852853, 3638.75775776, 3640.98698699, 3643.21621622,\n",
              "       3645.44544545, 3647.67467467, 3649.9039039 , 3652.13313313,\n",
              "       3654.36236236, 3656.59159159, 3658.82082082, 3661.05005005,\n",
              "       3663.27927928, 3665.50850851, 3667.73773774, 3669.96696697,\n",
              "       3672.1961962 , 3674.42542543, 3676.65465465, 3678.88388388,\n",
              "       3681.11311311, 3683.34234234, 3685.57157157, 3687.8008008 ,\n",
              "       3690.03003003, 3692.25925926, 3694.48848849, 3696.71771772,\n",
              "       3698.94694695, 3701.17617618, 3703.40540541, 3705.63463463,\n",
              "       3707.86386386, 3710.09309309, 3712.32232232, 3714.55155155,\n",
              "       3716.78078078, 3719.01001001, 3721.23923924, 3723.46846847,\n",
              "       3725.6976977 , 3727.92692693, 3730.15615616, 3732.38538539,\n",
              "       3734.61461461, 3736.84384384, 3739.07307307, 3741.3023023 ,\n",
              "       3743.53153153, 3745.76076076, 3747.98998999, 3750.21921922,\n",
              "       3752.44844845, 3754.67767768, 3756.90690691, 3759.13613614,\n",
              "       3761.36536537, 3763.59459459, 3765.82382382, 3768.05305305,\n",
              "       3770.28228228, 3772.51151151, 3774.74074074, 3776.96996997,\n",
              "       3779.1991992 , 3781.42842843, 3783.65765766, 3785.88688689,\n",
              "       3788.11611612, 3790.34534535, 3792.57457457, 3794.8038038 ,\n",
              "       3797.03303303, 3799.26226226, 3801.49149149, 3803.72072072,\n",
              "       3805.94994995, 3808.17917918, 3810.40840841, 3812.63763764,\n",
              "       3814.86686687, 3817.0960961 , 3819.32532533, 3821.55455455,\n",
              "       3823.78378378, 3826.01301301, 3828.24224224, 3830.47147147,\n",
              "       3832.7007007 , 3834.92992993, 3837.15915916, 3839.38838839,\n",
              "       3841.61761762, 3843.84684685, 3846.07607608, 3848.30530531,\n",
              "       3850.53453453, 3852.76376376, 3854.99299299, 3857.22222222,\n",
              "       3859.45145145, 3861.68068068, 3863.90990991, 3866.13913914,\n",
              "       3868.36836837, 3870.5975976 , 3872.82682683, 3875.05605606,\n",
              "       3877.28528529, 3879.51451451, 3881.74374374, 3883.97297297,\n",
              "       3886.2022022 , 3888.43143143, 3890.66066066, 3892.88988989,\n",
              "       3895.11911912, 3897.34834835, 3899.57757758, 3901.80680681,\n",
              "       3904.03603604, 3906.26526527, 3908.49449449, 3910.72372372,\n",
              "       3912.95295295, 3915.18218218, 3917.41141141, 3919.64064064,\n",
              "       3921.86986987, 3924.0990991 , 3926.32832833, 3928.55755756,\n",
              "       3930.78678679, 3933.01601602, 3935.24524525, 3937.47447447,\n",
              "       3939.7037037 , 3941.93293293, 3944.16216216, 3946.39139139,\n",
              "       3948.62062062, 3950.84984985, 3953.07907908, 3955.30830831,\n",
              "       3957.53753754, 3959.76676677, 3961.995996  , 3964.22522523,\n",
              "       3966.45445445, 3968.68368368, 3970.91291291, 3973.14214214,\n",
              "       3975.37137137, 3977.6006006 , 3979.82982983, 3982.05905906,\n",
              "       3984.28828829, 3986.51751752, 3988.74674675, 3990.97597598,\n",
              "       3993.20520521, 3995.43443443, 3997.66366366, 3999.89289289,\n",
              "       4002.12212212, 4004.35135135, 4006.58058058, 4008.80980981,\n",
              "       4011.03903904, 4013.26826827, 4015.4974975 , 4017.72672673,\n",
              "       4019.95595596, 4022.18518519, 4024.41441441, 4026.64364364,\n",
              "       4028.87287287, 4031.1021021 , 4033.33133133, 4035.56056056,\n",
              "       4037.78978979, 4040.01901902, 4042.24824825, 4044.47747748,\n",
              "       4046.70670671, 4048.93593594, 4051.16516517, 4053.39439439,\n",
              "       4055.62362362, 4057.85285285, 4060.08208208, 4062.31131131,\n",
              "       4064.54054054, 4066.76976977, 4068.998999  , 4071.22822823,\n",
              "       4073.45745746, 4075.68668669, 4077.91591592, 4080.14514515,\n",
              "       4082.37437437, 4084.6036036 , 4086.83283283, 4089.06206206,\n",
              "       4091.29129129, 4093.52052052, 4095.74974975, 4097.97897898,\n",
              "       4100.20820821, 4102.43743744, 4104.66666667, 4106.8958959 ,\n",
              "       4109.12512513, 4111.35435435, 4113.58358358, 4115.81281281,\n",
              "       4118.04204204, 4120.27127127, 4122.5005005 , 4124.72972973,\n",
              "       4126.95895896, 4129.18818819, 4131.41741742, 4133.64664665,\n",
              "       4135.87587588, 4138.10510511, 4140.33433433, 4142.56356356,\n",
              "       4144.79279279, 4147.02202202, 4149.25125125, 4151.48048048,\n",
              "       4153.70970971, 4155.93893894, 4158.16816817, 4160.3973974 ,\n",
              "       4162.62662663, 4164.85585586, 4167.08508509, 4169.31431431,\n",
              "       4171.54354354, 4173.77277277, 4176.002002  , 4178.23123123,\n",
              "       4180.46046046, 4182.68968969, 4184.91891892, 4187.14814815,\n",
              "       4189.37737738, 4191.60660661, 4193.83583584, 4196.06506507,\n",
              "       4198.29429429, 4200.52352352, 4202.75275275, 4204.98198198,\n",
              "       4207.21121121, 4209.44044044, 4211.66966967, 4213.8988989 ,\n",
              "       4216.12812813, 4218.35735736, 4220.58658659, 4222.81581582,\n",
              "       4225.04504505, 4227.27427427, 4229.5035035 , 4231.73273273,\n",
              "       4233.96196196, 4236.19119119, 4238.42042042, 4240.64964965,\n",
              "       4242.87887888, 4245.10810811, 4247.33733734, 4249.56656657,\n",
              "       4251.7957958 , 4254.02502503, 4256.25425425, 4258.48348348,\n",
              "       4260.71271271, 4262.94194194, 4265.17117117, 4267.4004004 ,\n",
              "       4269.62962963, 4271.85885886, 4274.08808809, 4276.31731732,\n",
              "       4278.54654655, 4280.77577578, 4283.00500501, 4285.23423423,\n",
              "       4287.46346346, 4289.69269269, 4291.92192192, 4294.15115115,\n",
              "       4296.38038038, 4298.60960961, 4300.83883884, 4303.06806807,\n",
              "       4305.2972973 , 4307.52652653, 4309.75575576, 4311.98498498,\n",
              "       4314.21421421, 4316.44344344, 4318.67267267, 4320.9019019 ,\n",
              "       4323.13113113, 4325.36036036, 4327.58958959, 4329.81881882,\n",
              "       4332.04804805, 4334.27727728, 4336.50650651, 4338.73573574,\n",
              "       4340.96496496, 4343.19419419, 4345.42342342, 4347.65265265,\n",
              "       4349.88188188, 4352.11111111, 4354.34034034, 4356.56956957,\n",
              "       4358.7987988 , 4361.02802803, 4363.25725726, 4365.48648649,\n",
              "       4367.71571572, 4369.94494494, 4372.17417417, 4374.4034034 ,\n",
              "       4376.63263263, 4378.86186186, 4381.09109109, 4383.32032032,\n",
              "       4385.54954955, 4387.77877878, 4390.00800801, 4392.23723724,\n",
              "       4394.46646647, 4396.6956957 , 4398.92492492, 4401.15415415,\n",
              "       4403.38338338, 4405.61261261, 4407.84184184, 4410.07107107,\n",
              "       4412.3003003 , 4414.52952953, 4416.75875876, 4418.98798799,\n",
              "       4421.21721722, 4423.44644645, 4425.67567568, 4427.9049049 ,\n",
              "       4430.13413413, 4432.36336336, 4434.59259259, 4436.82182182,\n",
              "       4439.05105105, 4441.28028028, 4443.50950951, 4445.73873874,\n",
              "       4447.96796797, 4450.1971972 , 4452.42642643, 4454.65565566,\n",
              "       4456.88488488, 4459.11411411, 4461.34334334, 4463.57257257,\n",
              "       4465.8018018 , 4468.03103103, 4470.26026026, 4472.48948949,\n",
              "       4474.71871872, 4476.94794795, 4479.17717718, 4481.40640641,\n",
              "       4483.63563564, 4485.86486486, 4488.09409409, 4490.32332332,\n",
              "       4492.55255255, 4494.78178178, 4497.01101101, 4499.24024024,\n",
              "       4501.46946947, 4503.6986987 , 4505.92792793, 4508.15715716,\n",
              "       4510.38638639, 4512.61561562, 4514.84484484, 4517.07407407,\n",
              "       4519.3033033 , 4521.53253253, 4523.76176176, 4525.99099099,\n",
              "       4528.22022022, 4530.44944945, 4532.67867868, 4534.90790791,\n",
              "       4537.13713714, 4539.36636637, 4541.5955956 , 4543.82482482,\n",
              "       4546.05405405, 4548.28328328, 4550.51251251, 4552.74174174,\n",
              "       4554.97097097, 4557.2002002 , 4559.42942943, 4561.65865866,\n",
              "       4563.88788789, 4566.11711712, 4568.34634635, 4570.57557558,\n",
              "       4572.8048048 , 4575.03403403, 4577.26326326, 4579.49249249,\n",
              "       4581.72172172, 4583.95095095, 4586.18018018, 4588.40940941,\n",
              "       4590.63863864, 4592.86786787, 4595.0970971 , 4597.32632633,\n",
              "       4599.55555556, 4601.78478478, 4604.01401401, 4606.24324324,\n",
              "       4608.47247247, 4610.7017017 , 4612.93093093, 4615.16016016,\n",
              "       4617.38938939, 4619.61861862, 4621.84784785, 4624.07707708,\n",
              "       4626.30630631, 4628.53553554, 4630.76476476, 4632.99399399,\n",
              "       4635.22322322, 4637.45245245, 4639.68168168, 4641.91091091,\n",
              "       4644.14014014, 4646.36936937, 4648.5985986 , 4650.82782783,\n",
              "       4653.05705706, 4655.28628629, 4657.51551552, 4659.74474474,\n",
              "       4661.97397397, 4664.2032032 , 4666.43243243, 4668.66166166,\n",
              "       4670.89089089, 4673.12012012, 4675.34934935, 4677.57857858,\n",
              "       4679.80780781, 4682.03703704, 4684.26626627, 4686.4954955 ,\n",
              "       4688.72472472, 4690.95395395, 4693.18318318, 4695.41241241,\n",
              "       4697.64164164, 4699.87087087, 4702.1001001 , 4704.32932933,\n",
              "       4706.55855856, 4708.78778779, 4711.01701702, 4713.24624625,\n",
              "       4715.47547548, 4717.7047047 , 4719.93393393, 4722.16316316,\n",
              "       4724.39239239, 4726.62162162, 4728.85085085, 4731.08008008,\n",
              "       4733.30930931, 4735.53853854, 4737.76776777, 4739.996997  ,\n",
              "       4742.22622623, 4744.45545546, 4746.68468468, 4748.91391391,\n",
              "       4751.14314314, 4753.37237237, 4755.6016016 , 4757.83083083,\n",
              "       4760.06006006, 4762.28928929, 4764.51851852, 4766.74774775,\n",
              "       4768.97697698, 4771.20620621, 4773.43543544, 4775.66466466,\n",
              "       4777.89389389, 4780.12312312, 4782.35235235, 4784.58158158,\n",
              "       4786.81081081, 4789.04004004, 4791.26926927, 4793.4984985 ,\n",
              "       4795.72772773, 4797.95695696, 4800.18618619, 4802.41541542,\n",
              "       4804.64464464, 4806.87387387, 4809.1031031 , 4811.33233233,\n",
              "       4813.56156156, 4815.79079079, 4818.02002002, 4820.24924925,\n",
              "       4822.47847848, 4824.70770771, 4826.93693694, 4829.16616617,\n",
              "       4831.3953954 , 4833.62462462, 4835.85385385, 4838.08308308,\n",
              "       4840.31231231, 4842.54154154, 4844.77077077, 4847.        ])"
            ]
          },
          "metadata": {
            "tags": []
          },
          "execution_count": 16
        }
      ]
    },
    {
      "cell_type": "code",
      "metadata": {
        "id": "IWfkXWRRuygk"
      },
      "source": [
        "y = m*x+c\n"
      ],
      "execution_count": null,
      "outputs": []
    },
    {
      "cell_type": "code",
      "metadata": {
        "id": "C-4WmA3mu3Ya",
        "outputId": "2b21cce5-0d6a-4f4c-df98-e5d9b40ddff8",
        "colab": {
          "base_uri": "https://localhost:8080/",
          "height": 312
        }
      },
      "source": [
        "plt.scatter(X,Y,color='g')\n",
        "plt.plot(x,y,color='r')\n",
        "plt.title('Simple Linear Regression')\n",
        "plt.xlabel('Head size cm^3')\n",
        "plt.ylabel('Brain weight in grams')\n",
        "\n",
        "\n"
      ],
      "execution_count": null,
      "outputs": [
        {
          "output_type": "execute_result",
          "data": {
            "text/plain": [
              "Text(0, 0.5, 'Brain weight in grams')"
            ]
          },
          "metadata": {
            "tags": []
          },
          "execution_count": 22
        },
        {
          "output_type": "display_data",
          "data": {
            "image/png": "[encoded data removed]",
            "text/plain": [
              "<Figure size 432x288 with 1 Axes>"
            ]
          },
          "metadata": {
            "tags": [],
            "needs_background": "light"
          }
        }
      ]
    },
    {
      "cell_type": "code",
      "metadata": {
        "id": "xdUsvePzvGTw",
        "outputId": "76f2824d-2192-4046-aa03-b1c84917afa7",
        "colab": {
          "base_uri": "https://localhost:8080/"
        }
      },
      "source": [
        "#calculating the error\n",
        "sum_pred = 0 \n",
        "sum_act = 0 \n",
        "\n",
        "for i in range(n):\n",
        "  y_pred = (m*X[i]+c)\n",
        "  sum_pred += (Y[i]-y_pred)**2\n",
        "  sum_act +=(Y[i]-mean_Y)**2\n",
        "\n",
        "r2 = 1-(sum_pred/sum_act)\n",
        "print(r2)"
      ],
      "execution_count": null,
      "outputs": [
        {
          "output_type": "stream",
          "text": [
            "0.6393117199570003\n"
          ],
          "name": "stdout"
        }
      ]
    },
    {
      "cell_type": "markdown",
      "metadata": {
        "id": "62zScMFMwIVq"
      },
      "source": [
        "#R**2>0.5, so we have a good model"
      ]
    },
    {
      "cell_type": "code",
      "metadata": {
        "id": "0oLPLTnjwPiS"
      },
      "source": [
        "def predict(x):\n",
        "    y = m*x + c\n",
        "    print(y)"
      ],
      "execution_count": null,
      "outputs": []
    },
    {
      "cell_type": "code",
      "metadata": {
        "id": "imaYBn_DwUWY",
        "outputId": "398c96fa-0605-4ae8-d492-3b98d0bfef64",
        "colab": {
          "base_uri": "https://localhost:8080/"
        }
      },
      "source": [
        "predict(4177)\n"
      ],
      "execution_count": null,
      "outputs": [
        {
          "output_type": "stream",
          "text": [
            "1425.9177720966638\n"
          ],
          "name": "stdout"
        }
      ]
    },
    {
      "cell_type": "markdown",
      "metadata": {
        "id": "Hr-aKL1ewW_3"
      },
      "source": [
        "Brain weight for given head size(cm^3) is predicted."
      ]
    },
    {
      "cell_type": "code",
      "metadata": {
        "id": "Pjy0KP2QwfTn"
      },
      "source": [
        "#second method \n",
        "#using scikit learn library\n",
        "from sklearn.linear_model import LinearRegression\n",
        "from sklearn.metrics import mean_squared_error\n",
        "\n",
        "X = X.reshape((n,1))\n"
      ],
      "execution_count": null,
      "outputs": []
    },
    {
      "cell_type": "code",
      "metadata": {
        "id": "_7EaCA-lwyXI",
        "outputId": "de627f60-7573-458a-cc7d-de55f16ef5be",
        "colab": {
          "base_uri": "https://localhost:8080/"
        }
      },
      "source": [
        "X.shape\n"
      ],
      "execution_count": null,
      "outputs": [
        {
          "output_type": "execute_result",
          "data": {
            "text/plain": [
              "(237, 1)"
            ]
          },
          "metadata": {
            "tags": []
          },
          "execution_count": 27
        }
      ]
    },
    {
      "cell_type": "code",
      "metadata": {
        "id": "FSpFR8Kqw0ja",
        "outputId": "8e05a1c3-e9c4-4830-8c1a-d9ff9f485e04",
        "colab": {
          "base_uri": "https://localhost:8080/"
        }
      },
      "source": [
        "y.shape\n"
      ],
      "execution_count": null,
      "outputs": [
        {
          "output_type": "execute_result",
          "data": {
            "text/plain": [
              "(1000,)"
            ]
          },
          "metadata": {
            "tags": []
          },
          "execution_count": 28
        }
      ]
    },
    {
      "cell_type": "code",
      "metadata": {
        "id": "DKpo27mnw3PQ"
      },
      "source": [
        "lg = LinearRegression()\n"
      ],
      "execution_count": null,
      "outputs": []
    },
    {
      "cell_type": "code",
      "metadata": {
        "id": "98jHyzUYw9Kg",
        "outputId": "4d8a254c-45f5-4ec5-efb3-47b52a8a2f0e",
        "colab": {
          "base_uri": "https://localhost:8080/"
        }
      },
      "source": [
        "lg.fit(X,Y)\n"
      ],
      "execution_count": null,
      "outputs": [
        {
          "output_type": "execute_result",
          "data": {
            "text/plain": [
              "LinearRegression(copy_X=True, fit_intercept=True, n_jobs=None, normalize=False)"
            ]
          },
          "metadata": {
            "tags": []
          },
          "execution_count": 31
        }
      ]
    },
    {
      "cell_type": "code",
      "metadata": {
        "id": "Y_i3zGlrw_-U"
      },
      "source": [
        "y_pred = lg.predict(X)\n"
      ],
      "execution_count": null,
      "outputs": []
    },
    {
      "cell_type": "code",
      "metadata": {
        "id": "nzEyaCjzxCId"
      },
      "source": [
        "mse = mean_squared_error(Y,y_pred)\n"
      ],
      "execution_count": null,
      "outputs": []
    },
    {
      "cell_type": "code",
      "metadata": {
        "id": "MyBpkO31xD1v"
      },
      "source": [
        "rmse = np.sqrt(mse)\n"
      ],
      "execution_count": null,
      "outputs": []
    },
    {
      "cell_type": "code",
      "metadata": {
        "id": "qq41jnuFxFgZ"
      },
      "source": [
        "r2_score = lg.score(X,Y)\n"
      ],
      "execution_count": null,
      "outputs": []
    },
    {
      "cell_type": "code",
      "metadata": {
        "id": "quEsYmO9xSnN",
        "outputId": "06629377-770e-40a5-e47e-338e11a324b1",
        "colab": {
          "base_uri": "https://localhost:8080/"
        }
      },
      "source": [
        "print(rmse)\n",
        "print(r2_score)"
      ],
      "execution_count": null,
      "outputs": [
        {
          "output_type": "stream",
          "text": [
            "72.1206213783709\n",
            "0.639311719957\n"
          ],
          "name": "stdout"
        }
      ]
    },
    {
      "cell_type": "code",
      "metadata": {
        "id": "8H2i1i8bxXRQ",
        "outputId": "da55d211-168b-4340-d8d0-a0667959983a",
        "colab": {
          "base_uri": "https://localhost:8080/"
        }
      },
      "source": [
        "lg.predict([[4177]])\n"
      ],
      "execution_count": null,
      "outputs": [
        {
          "output_type": "execute_result",
          "data": {
            "text/plain": [
              "array([1425.9177721])"
            ]
          },
          "metadata": {
            "tags": []
          },
          "execution_count": 37
        }
      ]
    },
    {
      "cell_type": "code",
      "metadata": {
        "id": "e_-EbK1bxcOF",
        "outputId": "ba51f14f-73f9-4733-e9f4-ffab722396cc",
        "colab": {
          "base_uri": "https://localhost:8080/"
        }
      },
      "source": [
        "lg.intercept_\n"
      ],
      "execution_count": null,
      "outputs": [
        {
          "output_type": "execute_result",
          "data": {
            "text/plain": [
              "325.5734210494426"
            ]
          },
          "metadata": {
            "tags": []
          },
          "execution_count": 38
        }
      ]
    }
  ]
}